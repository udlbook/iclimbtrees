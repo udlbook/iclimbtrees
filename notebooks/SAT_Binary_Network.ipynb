{
  "nbformat": 4,
  "nbformat_minor": 0,
  "metadata": {
    "colab": {
      "provenance": [],
      "authorship_tag": "ABX9TyOzvKiCY5/nv/SaD9RBkwUz",
      "include_colab_link": true
    },
    "kernelspec": {
      "name": "python3",
      "display_name": "Python 3"
    },
    "language_info": {
      "name": "python"
    }
  },
  "cells": [
    {
      "cell_type": "markdown",
      "metadata": {
        "id": "view-in-github",
        "colab_type": "text"
      },
      "source": [
        "<a href=\"https://colab.research.google.com/github/udlbook/iclimbtrees/blob/main/notebooks/SAT_Binary_Network.ipynb\" target=\"_parent\"><img src=\"https://colab.research.google.com/assets/colab-badge.svg\" alt=\"Open In Colab\"/></a>"
      ]
    },
    {
      "cell_type": "markdown",
      "source": [
        "<img src=\"data:image/svg+xml;base64,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\">"
      ],
      "metadata": {
        "id": "jSS2pwvk9D1m"
      }
    },
    {
      "cell_type": "markdown",
      "source": [
        "# Binary classification\n",
        "\n",
        "The purpose of this Python notebook is to use investigate using SAT to learn a classifier that takes an input data point and establishes whether it belongs to one of two clases.  We'll learn the classifier using a training dataset consisting of data points with known labels.\n",
        "\n",
        "You should have completed the notebook on SAT constructions before attempting this notebook.  \n",
        "\n",
        "Work through the cells below, running each cell in turn. In various places you will see the words \"TODO\". Follow the instructions at these places and write code to complete the functions.\n",
        "\n",
        "You can save a local copy of this notebook in your Google account and work through it in Colab (recommended) or you can download the notebook and run it locally using Jupyter notebook or similar. If you are using CoLab, we recommend that turn off AI autocomplete (under cog icon in top-right corner), which will give you the answers and defeat the purpose of the exercise.\n",
        "\n",
        "A fully working version of this notebook with the complete answers can be found [here](https://colab.research.google.com/github/udlbook/udlbook/blob/main/Trees/LinearRegression_FitModel_Answers.ipynb).\n",
        "\n",
        "Contact me at iclimbtreesmail@gmail.com if you find any mistakes or have any suggestions."
      ],
      "metadata": {
        "id": "h61RTzt_9KE1"
      }
    },
    {
      "cell_type": "code",
      "source": [
        "import numpy as np\n",
        "import matplotlib.pyplot as plt\n",
        "from sklearn.datasets import make_blobs\n",
        "from sklearn.preprocessing import scale\n",
        "!pip install z3-solver\n",
        "from z3 import *"
      ],
      "metadata": {
        "colab": {
          "base_uri": "https://localhost:8080/"
        },
        "id": "13LPQcDi94Hz",
        "outputId": "ed5593d2-2f30-45f9-fff3-31eceb8d3640"
      },
      "execution_count": 8,
      "outputs": [
        {
          "output_type": "stream",
          "name": "stdout",
          "text": [
            "Collecting z3-solver\n",
            "  Downloading z3_solver-4.15.1.0-py3-none-manylinux_2_17_x86_64.manylinux2014_x86_64.whl.metadata (602 bytes)\n",
            "Downloading z3_solver-4.15.1.0-py3-none-manylinux_2_17_x86_64.manylinux2014_x86_64.whl (29.5 MB)\n",
            "\u001b[2K   \u001b[90m━━━━━━━━━━━━━━━━━━━━━━━━━━━━━━━━━━━━━━━━\u001b[0m \u001b[32m29.5/29.5 MB\u001b[0m \u001b[31m61.9 MB/s\u001b[0m eta \u001b[36m0:00:00\u001b[0m\n",
            "\u001b[?25hInstalling collected packages: z3-solver\n",
            "Successfully installed z3-solver-4.15.1.0\n"
          ]
        }
      ]
    },
    {
      "cell_type": "markdown",
      "source": [
        "Let's start by creating some random data. We'll create 60 points and assign each to one of two random classes.  We'll keep the data in the $2\\times 60$ matrix $X$ and the class labels in the length 60 vector $y$."
      ],
      "metadata": {
        "id": "1JgXBNWz_cOD"
      }
    },
    {
      "cell_type": "code",
      "source": [
        "n_data = 60;\n",
        "X, y = make_blobs(n_samples=n_data, centers=4, random_state=0, cluster_std=1.0)\n",
        "# Put the data points in the columns\n",
        "X = X.T\n",
        "# Combine clusters\n",
        "y = y % 2\n",
        "# Scale to reasonable values\n",
        "X = scale(X, axis=1) * 1.3\n",
        "print(\"Data matrix size: (%d x %d)\"%(X.shape[0],X.shape[1]))\n",
        "print(\"Label vector size: %d\"%(y.shape[0]))"
      ],
      "metadata": {
        "colab": {
          "base_uri": "https://localhost:8080/"
        },
        "id": "o1yPpE6E-Nqk",
        "outputId": "8c56030e-34ab-4237-c2d9-3942e43e0860"
      },
      "execution_count": 9,
      "outputs": [
        {
          "output_type": "stream",
          "name": "stdout",
          "text": [
            "Data matrix size: (2 x 60)\n",
            "Label vector size: 60\n"
          ]
        }
      ]
    },
    {
      "cell_type": "markdown",
      "source": [
        "Let's plot this data"
      ],
      "metadata": {
        "id": "A0rq2uZ2_r2k"
      }
    },
    {
      "cell_type": "code",
      "source": [
        "fig,ax = plt.subplots(1,1,figsize=(5,5))\n",
        "for i in range(n_data):\n",
        "    if y[i] == 0:\n",
        "        ax.scatter(X[0, i], X[1, i], marker='s', s=50, c='#c29b83') # Square for class 0\n",
        "    else:\n",
        "        ax.scatter(X[0, i], X[1, i], marker='o', s=50, c='#a0d9d4') # Circle for class 1\n",
        "ax.set_xlabel('x1');\n",
        "ax.set_ylabel('x2');\n",
        "ax.set_ylim([-3,3])\n",
        "ax.set_xlim([-3,3])\n",
        "ax.set_aspect('equal')\n",
        "plt.show()"
      ],
      "metadata": {
        "colab": {
          "base_uri": "https://localhost:8080/",
          "height": 470
        },
        "id": "UyVWlFN7_urP",
        "outputId": "706dc43d-dde2-49ea-ba3d-9e1d0072312c"
      },
      "execution_count": 10,
      "outputs": [
        {
          "output_type": "display_data",
          "data": {
            "text/plain": [
              "<Figure size 500x500 with 1 Axes>"
            ],
            "image/png": "[encoded data removed]"
          },
          "metadata": {}
        }
      ]
    },
    {
      "cell_type": "markdown",
      "source": [
        "Our goal wil be to learn a rule that (as much as possible) that takes and input data points and assigns the label 0 to the data if it is in the first class and the label 1 if it is in the second class.\n",
        "\n",
        "We're going to formulate this as a SAT problem, so we need to deal with the fact that each 2D data point is based on continuous values.  To this end, we convert each data point $\\mathbf{x}\\in\\mathbb{R}^2$ into a binary feature $\\mathbf{x}\\in \\mathbb{R}^{N}$.\n",
        "\n",
        "We'll do this by generating $N$ random lines in the 2D space and assigning a binary feature for a point depending on which side of the line it is on."
      ],
      "metadata": {
        "id": "4XQi5eur_wWO"
      }
    },
    {
      "cell_type": "code",
      "source": [
        "# Set seed so we get same result each time\n",
        "np.random.seed(2)\n",
        "\n",
        "# Number of random lines\n",
        "n_features = 50\n",
        "\n",
        "# Storage for the line params\n",
        "line_params = np.zeros((3, n_features))\n",
        "# Storage for the features themselves\n",
        "features = np.zeros((n_features, n_data))\n",
        "\n",
        "# Generate random lines and assign binary features\n",
        "for c_feature in range(n_features):\n",
        "    # Generate two random points to define a line\n",
        "    point1 = np.random.uniform(low=-3, high=3, size=2)\n",
        "    point2 = np.random.uniform(low=-3, high=3, size=2)\n",
        "\n",
        "    # Calculate the line equation (ax + by + c = 0)\n",
        "    a = point2[1] - point1[1]\n",
        "    b = point1[0] - point2[0]\n",
        "    c = -a * point1[0] - b * point1[1]\n",
        "\n",
        "    # Store the line\n",
        "    line_params[:, c_feature] = [a, b, c]\n",
        "\n",
        "    # Assign binary features based on which side of the line each point is\n",
        "    for c_data in range(n_data):\n",
        "        if a * X[0, c_data] + b * X[1, c_data] + c > 0:\n",
        "            features[c_feature, c_data] = 1\n",
        "\n",
        "print(\"Feature matrix size: (%d x %d)\"%(features.shape[0],features.shape[1]))"
      ],
      "metadata": {
        "colab": {
          "base_uri": "https://localhost:8080/"
        },
        "id": "B92Dem09VWl9",
        "outputId": "be1d95f6-16a3-4cde-f79d-d68ea266219a"
      },
      "execution_count": 11,
      "outputs": [
        {
          "output_type": "stream",
          "name": "stdout",
          "text": [
            "Feature matrix size: (50 x 60)\n"
          ]
        }
      ]
    },
    {
      "cell_type": "markdown",
      "source": [
        "We'll now learn a single layer neural network to classify the data as well as possible.\n",
        "\n",
        "We'll use this routine to draw the final result"
      ],
      "metadata": {
        "id": "oDr4q5tFpeGq"
      }
    },
    {
      "cell_type": "code",
      "source": [
        "def draw_decision_boundary(X,y,predict,predict_params):\n",
        "\n",
        "  # Define a grid of values to plot\n",
        "  x1_plot_vals = np.linspace(-3,3,400)\n",
        "  x2_plot_vals = np.linspace(-3,3,400)\n",
        "  x1_plot, x2_plot = np.meshgrid(x1_plot_vals, x2_plot_vals)\n",
        "\n",
        "  # Make a prediction for each of these values\n",
        "  y_plot = predict(x1_plot, x2_plot, predict_params)\n",
        "\n",
        "  # Draw the points and the decision boundary\n",
        "  fig,ax = plt.subplots(1,1,figsize=(5,5))\n",
        "  plt.contourf(x1_plot_vals, x2_plot_vals, y_plot, cmap=plt.cm.RdBu, alpha=0.8)\n",
        "  for i in range(n_data):\n",
        "    if y[i] == 0:\n",
        "        ax.scatter(X[0, i], X[1, i], marker='o', s=50, c='#c29b83') # Circle for class 0\n",
        "    else:\n",
        "        ax.scatter(X[0, i], X[1, i], marker='s', s=50, c='#a0d9d4') # Square for class 1\n",
        "  ax.set_xlabel('x1');   ax.set_ylabel('x2');\n",
        "  ax.set_ylim([-3,3]);  ax.set_xlim([-3,3])\n",
        "  ax.set_aspect('equal')\n",
        "  plt.show()"
      ],
      "metadata": {
        "id": "H8u7kA32VxGp"
      },
      "execution_count": 12,
      "outputs": []
    },
    {
      "cell_type": "code",
      "source": [
        "# SAT constructions that we will need\n",
        "\n",
        "# Takes a list of z3.Bool variables and returns constraints\n",
        "# ensuring that there is exactly one true\n",
        "def exactly_one(x):\n",
        "  return PbEq([(i,1) for i in x],1)\n",
        "\n",
        "# Takes a list of z3.Bool variables and returns constraints\n",
        "# ensuring that are at least k true\n",
        "def at_least_k(x,k):\n",
        "  return PbGe([(i,1) for i in x],k)"
      ],
      "metadata": {
        "id": "mhySZULUPpHW"
      },
      "execution_count": 13,
      "outputs": []
    },
    {
      "cell_type": "markdown",
      "source": [
        "This is the main routine that runs the SAT solver.  It takes the binary features, true labels $y$ and the minimum number of correct answers required $k$.  \n",
        "\n",
        "It sets up the binary variables used in the SAT formulation and it returns their values if the solver returns SAT."
      ],
      "metadata": {
        "id": "P_STq8aJgoLq"
      }
    },
    {
      "cell_type": "code",
      "source": [
        "def fit_multiple_feature_model(features, y, k):\n",
        "\n",
        "  # Find number of features and data\n",
        "  n_features = features.shape[0]\n",
        "  n_data = features.shape[1]\n",
        "\n",
        "  # These variables will identify which features are used\n",
        "  features_used = [ z3.Bool(\"feat_used_{%d}\"%(c_feature)) for c_feature in range(0,n_features)]\n",
        "  # These variable will identify where each feature should be flipped\n",
        "  features_flipped = [ z3.Bool(\"feat_flipped_{%d}\"%(c_feature)) for c_feature in range(0,n_features)]\n",
        "  # These variables will indicate the classification of the points based on each feature\n",
        "  preactivations = [[ z3.Bool(\"preact_{%d,%d}\"%(c_feature, c_data)) for c_data in range(0,n_data)]for c_feature in range(0,n_features)]\n",
        "  # These variables will indicate the final classification of the points.\n",
        "  y_est = [ z3.Bool(\"y_est_{%d}\"%(c_data)) for c_data in range(0,n_data)]\n",
        "  # These variables will indicate if the point is classified correctly\n",
        "  y_correct = [ z3.Bool(\"y_correct_{%d}\"%(c_data)) for c_data in range(0,n_data)]\n",
        "\n",
        "  # Set up the SAT solver\n",
        "  s = Solver()\n",
        "\n",
        "  # Add the constraints\n",
        "  s = add_multiple_feature_constraints(s, features_used, features_flipped, y_correct, y_est, preactivations, k, features)\n",
        "\n",
        "  # Run the SAT solver\n",
        "  sat_result = s.check()\n",
        "\n",
        "  # If it is then draw crossword, otherwise return\n",
        "  if sat_result == z3.sat:\n",
        "      result = s.model()\n",
        "      # Retrieve the final variables\n",
        "      features_used_out = np.array([int(bool(result[z3.Bool(\"feat_used_{%d}\"%(c_feature))])) for c_feature in range(0,n_features)])\n",
        "      features_flipped_out = np.array([int(bool(result[z3.Bool(\"feat_flipped_{%d}\"%(c_feature))])) for c_feature in range(0,n_features)])\n",
        "      preactivations_out = np.array([[int(bool(result[z3.Bool(\"preact_{%d,%d}\"%(c_feature,c_data))]))  for c_data in range(0,n_data)]for c_feature in range(0,n_features)] )\n",
        "      y_est_out = np.array([int(bool(result[z3.Bool(\"y_est_{%d}\"%(c_data))])) for c_data in range(0,n_data)])\n",
        "      y_correct_out = np.array([int(bool(result[z3.Bool(\"y_correct_{%d}\"%(c_data))])) for c_data in range(0,n_data)])\n",
        "      return sat_result, features_used_out, features_flipped_out, y_est_out, preactivations_out, y_correct_out\n",
        "  else:\n",
        "      return sat_result, None, None, None, None, None"
      ],
      "metadata": {
        "id": "HKI3E5FKhwFf"
      },
      "execution_count": 14,
      "outputs": []
    },
    {
      "cell_type": "code",
      "source": [
        "def add_multiple_feature_constraints(s, features_used, features_flipped, y_correct, y_est, preactivations, k, features):\n",
        "\n",
        "  # Find number of features and data\n",
        "  n_features = features.shape[0]\n",
        "  n_data = features.shape[1]\n",
        "\n",
        "  # Constraint 1:  For each preactivation (fancy word for term to be ANDed together)\n",
        "  #                       either (i) the feature is not used (i.e., \\overline{\\phi}_k) and we return true whatever the input was or\n",
        "  #                       or     (ii) the feature is used (i.e., \\phi_k)  and we return a value that depends on the input and whether the feature was flipped.\n",
        "  #                                      If the feature was not flipped (i.e., \\overline{\\theta}_k) we return the input z_j\n",
        "  #                                      If it was flipped, we return its complement \\overline{z}_j.\n",
        "  for c_data in range(n_data):\n",
        "    for c_feature in range(n_features):\n",
        "        # TODO -- replace this expression (with equation 3.4.2 in the text)\n",
        "        s.add(preactivations[c_feature][c_data])\n",
        "\n",
        "  # Constraint 2:  y_est is logical AND of all estimates from individual features\n",
        "  for c_data in range(n_data):\n",
        "    # TODO -- replace this expression so that all the preativations for each data point are ANDed together\n",
        "    s.add(y_est[c_data])\n",
        "\n",
        "  # Constraint 3:  For each data point the data is correct if y_est matches the test label\n",
        "  for c_data in range(0,n_data):\n",
        "    s.add(y_correct[c_data] == (y_est[c_data] == bool(y[c_data])))\n",
        "\n",
        "  # Constraint 4:  We require at least k features to be correct\n",
        "  s.add(at_least_k(y_correct, k))\n",
        "\n",
        "  return s"
      ],
      "metadata": {
        "id": "qwZmRz55mAx-"
      },
      "execution_count": 15,
      "outputs": []
    },
    {
      "cell_type": "code",
      "source": [
        "# TODO -- run this routine multiple times, until you find the largest number k of features that can be classified correctly (for which the model is SAT)\n",
        "sat_result, features_used_out, features_flipped_out, y_est_out, preactivations_out, y_correct_out = fit_multiple_feature_model(features, y, k=20)\n",
        "\n",
        "if sat_result == z3.sat:\n",
        "  print(\"SAT\")\n",
        "  print(\"\\nFeatures used:\\n\", features_used_out)\n",
        "  print(\"\\nFeatures flipped:\\n\", features_flipped_out)\n",
        "  print(\"\\nPreactivations \\n\",preactivations_out)\n",
        "  print(\"\\nY estimated (1st row) vs y_true (second row)\\n\",np.concatenate((y_est_out.reshape(1,n_data),y.reshape(1,n_data)),axis=0))\n",
        "  print(\"\\nCorrectly classified:\\n\", y_correct_out)\n",
        "else:\n",
        "  print(\"UNSAT\")"
      ],
      "metadata": {
        "colab": {
          "base_uri": "https://localhost:8080/"
        },
        "id": "iQez3B02nEAZ",
        "outputId": "8b258110-a8f0-4eaf-f006-ef929d585223"
      },
      "execution_count": 16,
      "outputs": [
        {
          "output_type": "stream",
          "name": "stdout",
          "text": [
            "SAT\n",
            "\n",
            "Features used:\n",
            " [0 0 0 0 0 0 0 0 0 0 0 0 0 0 0 0 0 0 0 0 0 0 0 0 0 0 0 0 0 0 0 0 0 0 0 0 0\n",
            " 0 0 0 0 0 0 0 0 0 0 0 0 0]\n",
            "\n",
            "Features flipped:\n",
            " [0 0 0 0 0 0 0 0 0 0 0 0 0 0 0 0 0 0 0 0 0 0 0 0 0 0 0 0 0 0 0 0 0 0 0 0 0\n",
            " 0 0 0 0 0 0 0 0 0 0 0 0 0]\n",
            "\n",
            "Preactivations \n",
            " [[1 1 1 ... 1 1 1]\n",
            " [1 1 1 ... 1 1 1]\n",
            " [1 1 1 ... 1 1 1]\n",
            " ...\n",
            " [1 1 1 ... 1 1 1]\n",
            " [1 1 1 ... 1 1 1]\n",
            " [1 1 1 ... 1 1 1]]\n",
            "\n",
            "Y estimated (1st row) vs y_true (second row)\n",
            " [[1 1 1 1 1 1 1 1 1 1 1 1 1 1 1 1 1 1 1 1 1 1 1 1 1 1 1 1 1 1 1 1 1 1 1 1\n",
            "  1 1 1 1 1 1 1 1 1 1 1 1 1 1 1 1 1 1 1 1 1 1 1 1]\n",
            " [0 1 1 0 1 1 1 1 1 0 1 0 0 0 1 0 0 0 1 1 1 1 1 0 0 1 0 1 0 1 1 1 0 0 1 0\n",
            "  1 0 0 0 0 0 1 1 1 0 1 0 1 0 0 1 1 0 0 0 0 0 1 1]]\n",
            "\n",
            "Correctly classified:\n",
            " [0 1 1 0 1 1 1 1 1 0 1 0 0 0 1 0 0 0 1 1 1 1 1 0 0 1 0 1 0 1 1 1 0 0 1 0 1\n",
            " 0 0 0 0 0 1 1 1 0 1 0 1 0 0 1 1 0 0 0 0 0 1 1]\n"
          ]
        }
      ]
    },
    {
      "cell_type": "code",
      "source": [
        "def predict_multiple_features(x1,x2,params):\n",
        "  features_used = params[\"features_used\"]\n",
        "  feature_flipped = params[\"features_flipped\"]\n",
        "  line_params = params[\"line_params\"]\n",
        "  result = np.full(x1.shape, True, dtype=bool)\n",
        "  n_features = len(features_used)\n",
        "  for c_feature in range(n_features):\n",
        "    if features_used[c_feature]:\n",
        "      if feature_flipped[c_feature]:\n",
        "        result = np.logical_and(result,line_params[0,c_feature] * x1 + line_params[1,c_feature] * x2 + line_params[2,c_feature] < 0)\n",
        "      else:\n",
        "        result = np.logical_and(result,line_params[0,c_feature] * x1 + line_params[1,c_feature] * x2 + line_params[2,c_feature] > 0)\n",
        "  return result"
      ],
      "metadata": {
        "id": "JU4A_rItnON0"
      },
      "execution_count": 17,
      "outputs": []
    },
    {
      "cell_type": "code",
      "source": [
        "predict_params ={\"line_params\":line_params,\"features_used\":features_used_out,\"features_flipped\":features_flipped_out}\n",
        "draw_decision_boundary(X,y,predict_multiple_features, predict_params)"
      ],
      "metadata": {
        "colab": {
          "base_uri": "https://localhost:8080/",
          "height": 470
        },
        "id": "lvEpNDUWvmRV",
        "outputId": "8757e33e-b3a8-441f-c7dc-891712e11bd8"
      },
      "execution_count": 18,
      "outputs": [
        {
          "output_type": "display_data",
          "data": {
            "text/plain": [
              "<Figure size 500x500 with 1 Axes>"
            ],
            "image/png": "[encoded data removed]"
          },
          "metadata": {}
        }
      ]
    },
    {
      "cell_type": "markdown",
      "source": [
        "If you did this correctly, it should be able to classify 45/60 points correctly points correctly and it will have chosen a blue region that separates the blue points at the top from the remaining points.   However, AND-ing together regions created by lines like this is guaranteed to produce a convex region for the blue points in class 1 (a convex region is one where any two points on the boundary can be joined with straight line without intersecting the boundary).\n",
        "\n",
        "This limits the expressivity of the classifier.  A simple way to make progress is to compute several of these regions and logically OR them together to create a more complex region.  \n",
        "\n",
        "In the terminology of neural networks, the computations for the individual regions are stored in the \"activations\" of \"hidden variables\"."
      ],
      "metadata": {
        "id": "eauWDz_lxSpO"
      }
    },
    {
      "cell_type": "code",
      "source": [
        "def fit_multilayer_model(features, y, k, n_hidden):\n",
        "\n",
        "  # Find number of features and data\n",
        "  n_features = features.shape[0]\n",
        "  n_data = features.shape[1]\n",
        "\n",
        "  # These variables will identify which features are used\n",
        "  features_used = [[ z3.Bool(\"feat_used_{%d,%d}\"%(c_feature, c_hidden)) for c_hidden in range(0, n_hidden) ] for c_feature in range(0,n_features)]\n",
        "  # These variable will identify where each feature should be flipped\n",
        "  features_flipped = [[ z3.Bool(\"feat_flipped_{%d,%d}\"%(c_feature, c_hidden)) for c_hidden in range(0, n_hidden) ] for c_feature in range(0,n_features)]\n",
        "  # These variables will indicate the classification of the points based on each feature\n",
        "  preactivations = [[[ z3.Bool(\"preact_{%d,%d,%d}\"%(c_feature, c_data, c_hidden)) for c_hidden in range(0,n_hidden)] for c_data in range(0,n_data)]for c_feature in range(0,n_features)]\n",
        "  # These variables will be the values at the hidden units (created by AND-ing together the relevant preactivations)\n",
        "  activations = [[ z3.Bool(\"act_{%d,%d}\"%(c_data, c_hidden)) for c_hidden in range(0,n_hidden)] for c_data in range(0,n_data)]\n",
        "\n",
        "  # These variables will indicate the final classification of the points.\n",
        "  y_est = [ z3.Bool(\"y_est_{%d}\"%(c_data)) for c_data in range(0,n_data)]\n",
        "  # These variables will indicate if the point is classified correctly\n",
        "  y_correct = [ z3.Bool(\"y_correct_{%d}\"%(c_data)) for c_data in range(0,n_data)]\n",
        "\n",
        "  # Set up the SAT solver\n",
        "  s = Solver()\n",
        "\n",
        "  # Add the constraints\n",
        "  s = add_multilayer_constraints(s, features_used, features_flipped, y_correct, y_est, preactivations, activations, k, n_hidden, features)\n",
        "\n",
        "  # Run the SAT solver\n",
        "  sat_result = s.check()\n",
        "\n",
        "  # If it is then draw crossword, otherwise return\n",
        "  if sat_result == z3.sat:\n",
        "      result = s.model()\n",
        "      # Retrieve the final variables\n",
        "      features_used_out = np.array([[int(bool(result[z3.Bool(\"feat_used_{%d,%d}\"%(c_feature, c_hidden))])) for c_hidden in range(0, n_hidden) ] for c_feature in range(0,n_features)])\n",
        "      features_flipped_out = np.array([[int(bool(result[z3.Bool(\"feat_flipped_{%d,%d}\"%(c_feature,c_hidden))])) for c_hidden in range(0, n_hidden) ]for c_feature in range(0,n_features)])\n",
        "      preactivations_out = np.array([[[int(bool(result[z3.Bool(\"preact_{%d,%d}\"%(c_feature,c_data))])) for c_hidden in range(0, n_hidden) ] for c_data in range(0,n_data)]for c_feature in range(0,n_features)] )\n",
        "      activations_out = np.array([[ int(bool(result[z3.Bool(\"act_{%d,%d}\"%(c_data, c_hidden))])) for c_hidden in range(0,n_hidden)] for c_data in range(0,n_data)])\n",
        "      y_est_out = np.array([int(bool(result[z3.Bool(\"y_est_{%d}\"%(c_data))])) for c_data in range(0,n_data)])\n",
        "      y_correct_out = np.array([int(bool(result[z3.Bool(\"y_correct_{%d}\"%(c_data))])) for c_data in range(0,n_data)])\n",
        "      return sat_result, features_used_out, features_flipped_out, y_est_out, preactivations_out, activations_out, y_correct_out\n",
        "  else:\n",
        "      return sat_result, None, None, None, None, None, None"
      ],
      "metadata": {
        "id": "ZHwoY4OpyWwG"
      },
      "execution_count": 21,
      "outputs": []
    },
    {
      "cell_type": "code",
      "source": [
        "def add_multilayer_constraints(s, features_used, features_flipped, y_correct, y_est, preactivations, activations, k, n_hidden, features):\n",
        "\n",
        "  # Find number of features and data\n",
        "  n_features = features.shape[0]\n",
        "  n_data = features.shape[1]\n",
        "\n",
        "  # Constraint 1:  For each preactivation in each hidden variable (term to be ANDed together)\n",
        "  #                       either (i) the feature is not used (i.e., \\overline{\\phi}_k) and we return true whatever the input was or\n",
        "  #                       or     (ii) the feature is used (i.e., \\phi_k)  and we return a value that depends on the input and whether the feature was flipped.\n",
        "  #                                      If the feature was not flipped (i.e., \\overline{\\theta}_k) we return the input z_j\n",
        "  #                                      If it was flipped, we return its complement \\overline{z}_j.\n",
        "  for c_data in range(n_data):\n",
        "    for c_feature in range(n_features):\n",
        "      for c_hidden in range (n_hidden):\n",
        "        # TODO -- Replace this line\n",
        "        s.add(preactivations[c_feature][c_data][c_hidden])\n",
        "\n",
        "  # Constraint 2:  For each hidden layer activation is logical AND of all of the preactivations\n",
        "  for c_data in range(n_data):\n",
        "    for c_hidden in range(n_hidden):\n",
        "      # TODO -- replace this line\n",
        "      s.add(activations[c_data][c_hidden])\n",
        "\n",
        "  # Constraint 3:  Estimated value is logical OR of all activations\n",
        "  for c_data in range(n_data):\n",
        "    # TODO replace this line\n",
        "    s.add(y_est[c_data])\n",
        "\n",
        "  # Constraint 5:  For each data point the data is correct if y_est matches the test label\n",
        "  for c_data in range(0,n_data):\n",
        "    s.add(y_correct[c_data] == (y_est[c_data] == bool(y[c_data])))\n",
        "\n",
        "  # Constraint 6:  We require at least k features to be correct\n",
        "  s.add(at_least_k(y_correct, k))\n",
        "\n",
        "  return s"
      ],
      "metadata": {
        "id": "1ayMBQkgzxc8"
      },
      "execution_count": 22,
      "outputs": []
    },
    {
      "cell_type": "code",
      "source": [
        "# TODO -- run this routine multiple times, until you find the largest number k of features that can be classified correctly (for which the model is SAT)\n",
        "sat_result, features_used_out, features_flipped_out, y_est_out, preactivations_out, activations_out, y_correct_out = \\\n",
        "              fit_multilayer_model(features, y, k=20, n_hidden=3)\n",
        "\n",
        "\n",
        "if sat_result == z3.sat:\n",
        "  print(\"SAT\")\n",
        "  print(\"\\nFeatures used hidden unit 1:\\n\", features_used_out[:,0])\n",
        "  print(\"\\nFeatures flipped hidden unit 1:\\n\", features_flipped_out[:,0])\n",
        "  print(\"\\nPreactivations hidden unit 1\\n\",preactivations_out[:,:,0])\n",
        "\n",
        "  print(\"\\nFeatures used hidden unit 2:\\n\", features_used_out[:,1])\n",
        "  print(\"\\nFeatures flipped hidden unit 2:\\n\", features_flipped_out[:,1])\n",
        "  print(\"\\nPreactivations hidden unit 2\\n\",preactivations_out[:,:,1])\n",
        "\n",
        "  print(\"\\nActivations\\n\",activations_out.T)\n",
        "\n",
        "  print(\"\\nY estimated (1st row) vs y_true (second row)\\n\",np.concatenate((y_est_out.reshape(1,n_data),y.reshape(1,n_data)),axis=0))\n",
        "  print(\"\\nCorrectly classified:\\n\", y_correct_out)\n",
        "else:\n",
        "  print(\"UNSAT\")"
      ],
      "metadata": {
        "colab": {
          "base_uri": "https://localhost:8080/"
        },
        "id": "dCgXSNgP2-8m",
        "outputId": "343e02ad-d33b-40c3-8ba6-c7f761c26a0e"
      },
      "execution_count": 26,
      "outputs": [
        {
          "output_type": "stream",
          "name": "stdout",
          "text": [
            "SAT\n",
            "\n",
            "Features used hidden unit 1:\n",
            " [0 0 0 0 0 0 0 0 0 0 0 0 0 0 0 0 0 0 0 0 0 0 0 0 0 0 0 0 0 0 0 0 0 0 0 0 0\n",
            " 0 0 0 0 0 0 0 0 0 0 0 0 0]\n",
            "\n",
            "Features flipped hidden unit 1:\n",
            " [0 0 0 0 0 0 0 0 0 0 0 0 0 0 0 0 0 0 0 0 0 0 0 0 0 0 0 0 0 0 0 0 0 0 0 0 0\n",
            " 0 0 0 0 0 0 0 0 0 0 0 0 0]\n",
            "\n",
            "Preactivations hidden unit 1\n",
            " [[0 0 0 ... 0 0 0]\n",
            " [0 0 0 ... 0 0 0]\n",
            " [0 0 0 ... 0 0 0]\n",
            " ...\n",
            " [0 0 0 ... 0 0 0]\n",
            " [0 0 0 ... 0 0 0]\n",
            " [0 0 0 ... 0 0 0]]\n",
            "\n",
            "Features used hidden unit 2:\n",
            " [0 0 0 0 0 0 0 0 0 0 0 0 0 0 0 0 0 0 0 0 0 0 0 0 0 0 0 0 0 0 0 0 0 0 0 0 0\n",
            " 0 0 0 0 0 0 0 0 0 0 0 0 0]\n",
            "\n",
            "Features flipped hidden unit 2:\n",
            " [0 0 0 0 0 0 0 0 0 0 0 0 0 0 0 0 0 0 0 0 0 0 0 0 0 0 0 0 0 0 0 0 0 0 0 0 0\n",
            " 0 0 0 0 0 0 0 0 0 0 0 0 0]\n",
            "\n",
            "Preactivations hidden unit 2\n",
            " [[0 0 0 ... 0 0 0]\n",
            " [0 0 0 ... 0 0 0]\n",
            " [0 0 0 ... 0 0 0]\n",
            " ...\n",
            " [0 0 0 ... 0 0 0]\n",
            " [0 0 0 ... 0 0 0]\n",
            " [0 0 0 ... 0 0 0]]\n",
            "\n",
            "Activations\n",
            " [[1 1 1 1 1 1 1 1 1 1 1 1 1 1 1 1 1 1 1 1 1 1 1 1 1 1 1 1 1 1 1 1 1 1 1 1\n",
            "  1 1 1 1 1 1 1 1 1 1 1 1 1 1 1 1 1 1 1 1 1 1 1 1]\n",
            " [1 1 1 1 1 1 1 1 1 1 1 1 1 1 1 1 1 1 1 1 1 1 1 1 1 1 1 1 1 1 1 1 1 1 1 1\n",
            "  1 1 1 1 1 1 1 1 1 1 1 1 1 1 1 1 1 1 1 1 1 1 1 1]\n",
            " [1 1 1 1 1 1 1 1 1 1 1 1 1 1 1 1 1 1 1 1 1 1 1 1 1 1 1 1 1 1 1 1 1 1 1 1\n",
            "  1 1 1 1 1 1 1 1 1 1 1 1 1 1 1 1 1 1 1 1 1 1 1 1]]\n",
            "\n",
            "Y estimated (1st row) vs y_true (second row)\n",
            " [[1 1 1 1 1 1 1 1 1 1 1 1 1 1 1 1 1 1 1 1 1 1 1 1 1 1 1 1 1 1 1 1 1 1 1 1\n",
            "  1 1 1 1 1 1 1 1 1 1 1 1 1 1 1 1 1 1 1 1 1 1 1 1]\n",
            " [0 1 1 0 1 1 1 1 1 0 1 0 0 0 1 0 0 0 1 1 1 1 1 0 0 1 0 1 0 1 1 1 0 0 1 0\n",
            "  1 0 0 0 0 0 1 1 1 0 1 0 1 0 0 1 1 0 0 0 0 0 1 1]]\n",
            "\n",
            "Correctly classified:\n",
            " [0 1 1 0 1 1 1 1 1 0 1 0 0 0 1 0 0 0 1 1 1 1 1 0 0 1 0 1 0 1 1 1 0 0 1 0 1\n",
            " 0 0 0 0 0 1 1 1 0 1 0 1 0 0 1 1 0 0 0 0 0 1 1]\n"
          ]
        }
      ]
    },
    {
      "cell_type": "code",
      "source": [
        "def predict_multilayer(x1,x2,params):\n",
        "  features_used = params[\"features_used\"]\n",
        "  feature_flipped = params[\"features_flipped\"]\n",
        "  line_params = params[\"line_params\"]\n",
        "  n_features = len(features_used)\n",
        "  n_hidden = features_used.shape[1]\n",
        "\n",
        "  prediction = np.full(x1.shape, False, dtype=bool)\n",
        "  for c_hidden in range(n_hidden):\n",
        "    activation = np.full(x1.shape, True, dtype=bool)\n",
        "    for c_feature in range(n_features):\n",
        "      if features_used[c_feature,c_hidden]:\n",
        "        if feature_flipped[c_feature,c_hidden]:\n",
        "          activation = np.logical_and(activation,line_params[0,c_feature] * x1 + line_params[1,c_feature] * x2 + line_params[2,c_feature] < 0)\n",
        "        else:\n",
        "          activation = np.logical_and(activation,line_params[0,c_feature] * x1 + line_params[1,c_feature] * x2 + line_params[2,c_feature] > 0)\n",
        "    prediction = np.logical_or(prediction, activation)\n",
        "\n",
        "  return prediction"
      ],
      "metadata": {
        "id": "gvpc65rb5jYb"
      },
      "execution_count": 27,
      "outputs": []
    },
    {
      "cell_type": "code",
      "source": [
        "predict_params ={\"line_params\":line_params,\"features_used\":features_used_out,\"features_flipped\":features_flipped_out}\n",
        "draw_decision_boundary(X,y,predict_multilayer, predict_params)"
      ],
      "metadata": {
        "colab": {
          "base_uri": "https://localhost:8080/",
          "height": 470
        },
        "id": "osHqVWfT6pIQ",
        "outputId": "a175ed4d-718c-4ef8-c646-c65870505c33"
      },
      "execution_count": 28,
      "outputs": [
        {
          "output_type": "display_data",
          "data": {
            "text/plain": [
              "<Figure size 500x500 with 1 Axes>"
            ],
            "image/png": "[encoded data removed]"
          },
          "metadata": {}
        }
      ]
    },
    {
      "cell_type": "markdown",
      "source": [
        "If you have done this correctly, you should find that you can now classify all 60 points correctly."
      ],
      "metadata": {
        "id": "CD1ATUuYsYC7"
      }
    }
  ]
}